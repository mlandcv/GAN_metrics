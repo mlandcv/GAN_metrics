{
 "cells": [
  {
   "cell_type": "code",
   "execution_count": null,
   "metadata": {},
   "outputs": [],
   "source": [
    "\n",
    "\n",
    "\n",
    "from piqa import SSIM, MS_SSIM, PSNR, HaarPSI\n",
    "from PIL import Image\n",
    "from torchvision import transforms\n",
    "from natsort import natsorted\n",
    "import os\n",
    "\n",
    "dir1 = r'path\\to\\domain\\one'\n",
    "dir2 = r'path\\to\\domain\\two'\n",
    "\n",
    "\n",
    "metric = SSIM()\n",
    "for a,b in list(zip(natsorted(os.listdir(dir1)),natsorted(os.listdir(dir2)))):\n",
    "    #print(a,b)\n",
    "    convert_tensor = transforms.ToTensor()\n",
    "    image1 = Image.open(os.path.join(dir1,a))\n",
    "    image2 = Image.open(os.path.join(dir2,b))\n",
    "    it1 = convert_tensor(image1).unsqueeze(0)\n",
    "    it2 = convert_tensor(image2).unsqueeze(0)\n",
    "    metricvalue = metric(it1, it2).squeeze(0)\n",
    "    print(metricvalue.item())"
   ]
  },
  {
   "cell_type": "code",
   "execution_count": null,
   "metadata": {},
   "outputs": [],
   "source": [
    "from sewar.full_ref import msssim\n",
    "import cv2\n",
    "from natsort import natsorted\n",
    "import numpy as np\n",
    "from colormath.color_objects import sRGBColor\n",
    "from colormath.color_conversions import convert_color\n",
    "from colormath.color_objects import LabColor\n",
    "from colormath.color_diff import delta_e_cie2000\n",
    "\n",
    "\n",
    "dir1 = r'E:\\My_dataset\\tiledata_v2\\val\\LeicaAT2'\n",
    "dir2 = r'E:\\My_dataset\\tiledata_v2\\val\\HimatsuHT'\n",
    "\n",
    "\n",
    "for a,b in list(zip(natsorted(os.listdir(dir1)),natsorted(os.listdir(dir2)))):\n",
    "    #print(a,b)\n",
    "    \n",
    "    image_A = cv2.imread(os.path.join(dir1,a)).astype(\"float32\")\n",
    "    image_B = cv2.imread(os.path.join(dir2,b)).astype(\"float32\")\n",
    "\n",
    "    output_chans = cv2.split(image_A)\n",
    "    monet_chans = cv2.split(image_B)\n",
    "    colors = (\"Blue\", \"Green\", \"Red\")\n",
    "\n",
    "    for (output_chan, monet_chan, color) in zip(output_chans, monet_chans, colors):\n",
    "        output_mean = np.mean(output_chan)\n",
    "        monet_mean = np.mean(monet_chan)\n",
    "\n",
    "        color1_rgb = None\n",
    "        color2_rgb = None\n",
    "\n",
    "        if color == \"Blue\":\n",
    "                color1_rgb = sRGBColor(0.0, 0.0, output_mean)\n",
    "                color2_rgb = sRGBColor(0.0, 0.0, monet_mean)\n",
    "        elif color == \"Green\":\n",
    "                color1_rgb = sRGBColor(0.0, output_mean, 0.0);\n",
    "                color2_rgb = sRGBColor(0.0, monet_mean, 0.0);\n",
    "        elif color == \"Red\":\n",
    "                color1_rgb = sRGBColor(output_mean, 0.0, 0.0);\n",
    "                color2_rgb = sRGBColor(monet_mean, 0.0, 0.0);\n",
    "\n",
    "        # Convert from RGB to Lab Color Space\n",
    "        color1_lab = convert_color(color1_rgb, LabColor);\n",
    "\n",
    "        # Convert from RGB to Lab Color Space\n",
    "        color2_lab = convert_color(color2_rgb, LabColor);\n",
    "    \n",
    "        # Find the color difference\n",
    "        delta_e = delta_e_cie2000(color1_lab, color2_lab);\n",
    "\n",
    "        print(\"Delta E of the Mean of %s Channel: %f\" % (color, delta_e))\n",
    "    \n"
   ]
  },
  {
   "cell_type": "code",
   "execution_count": null,
   "metadata": {},
   "outputs": [],
   "source": []
  }
 ],
 "metadata": {
  "interpreter": {
   "hash": "4398f083b9b40f39a9d8f6d5c627e9efd4998c8b03f1e9a687c55e473f03fdc8"
  },
  "kernelspec": {
   "display_name": "Python 3.6.12 64-bit ('tfgpu': conda)",
   "language": "python",
   "name": "python3"
  },
  "language_info": {
   "codemirror_mode": {
    "name": "ipython",
    "version": 3
   },
   "file_extension": ".py",
   "mimetype": "text/x-python",
   "name": "python",
   "nbconvert_exporter": "python",
   "pygments_lexer": "ipython3",
   "version": "3.6.12"
  },
  "orig_nbformat": 4
 },
 "nbformat": 4,
 "nbformat_minor": 2
}
